{
 "cells": [
  {
   "cell_type": "code",
   "execution_count": 1,
   "metadata": {},
   "outputs": [],
   "source": [
    "import numpy as np\n",
    "import matplotlib.pyplot as plt\n",
    "import pandas as pd\n",
    "import pickle"
   ]
  },
  {
   "cell_type": "code",
   "execution_count": 2,
   "metadata": {},
   "outputs": [],
   "source": [
    "# Importing the dataset\n",
    "dataset = pd.read_csv('Training.csv')\n",
    "X = dataset.iloc[:, :-1].values\n",
    "y = dataset.iloc[:, -1].values"
   ]
  },
  {
   "cell_type": "code",
   "execution_count": 3,
   "metadata": {},
   "outputs": [
    {
     "data": {
      "text/plain": [
       "4961"
      ]
     },
     "execution_count": 3,
     "metadata": {},
     "output_type": "execute_result"
    }
   ],
   "source": [
    "len(X)"
   ]
  },
  {
   "cell_type": "code",
   "execution_count": 4,
   "metadata": {},
   "outputs": [],
   "source": [
    "dataset=dataset.drop_duplicates()"
   ]
  },
  {
   "cell_type": "code",
   "execution_count": 5,
   "metadata": {},
   "outputs": [],
   "source": [
    "X = dataset.iloc[:, :-1].values\n",
    "y = dataset.iloc[:, -1].values"
   ]
  },
  {
   "cell_type": "code",
   "execution_count": 6,
   "metadata": {},
   "outputs": [
    {
     "data": {
      "text/plain": [
       "304"
      ]
     },
     "execution_count": 6,
     "metadata": {},
     "output_type": "execute_result"
    }
   ],
   "source": [
    "len(X)"
   ]
  },
  {
   "cell_type": "code",
   "execution_count": 7,
   "metadata": {},
   "outputs": [],
   "source": [
    "from sklearn.model_selection import train_test_split\n",
    "X, X_test, y, y_test = train_test_split(X, y, test_size = 0.2, random_state = 0)"
   ]
  },
  {
   "cell_type": "code",
   "execution_count": 14,
   "metadata": {},
   "outputs": [
    {
     "data": {
      "text/plain": [
       "DecisionTreeClassifier(class_weight=None, criterion='gini', max_depth=None,\n",
       "                       max_features=None, max_leaf_nodes=None,\n",
       "                       min_impurity_decrease=0.0, min_impurity_split=None,\n",
       "                       min_samples_leaf=1, min_samples_split=2,\n",
       "                       min_weight_fraction_leaf=0.0, presort=False,\n",
       "                       random_state=20, splitter='best')"
      ]
     },
     "execution_count": 14,
     "metadata": {},
     "output_type": "execute_result"
    }
   ],
   "source": [
    "# Fitting Decision Tree Classification to the Training set\n",
    "from sklearn.tree import DecisionTreeClassifier\n",
    "Decisionclassifier = DecisionTreeClassifier(random_state=20)\n",
    "Decisionclassifier.fit(X, y)"
   ]
  },
  {
   "cell_type": "code",
   "execution_count": 15,
   "metadata": {},
   "outputs": [
    {
     "data": {
      "text/plain": [
       "array(['Migraine', 'Hepatitis C', 'Hyperthyroidism', 'Osteoarthristis',\n",
       "       'Hepatitis D', 'Typhoid', 'Osteoarthristis', 'hepatitis A',\n",
       "       'Chicken pox', 'Hepatitis E', 'Varicose veins', 'Hyperthyroidism',\n",
       "       'Hepatitis B', 'Hypothyroidism', 'Paralysis (brain hemorrhage)',\n",
       "       'GERD', 'Varicose veins', 'Urinary tract infection',\n",
       "       'Heart attack', 'Chronic cholestasis', 'Hyperthyroidism',\n",
       "       'Hypoglycemia', 'Migraine', 'Heart attack', 'Hepatitis E',\n",
       "       'Jaundice', 'Gastroenteritis', 'Urinary tract infection',\n",
       "       'Urinary tract infection', 'Arthritis', 'Hypothyroidism',\n",
       "       'Bronchial Asthma', 'Urinary tract infection',\n",
       "       'Peptic ulcer diseae', 'Chronic cholestasis', 'Common Cold',\n",
       "       'Allergy', 'Arthritis', 'Urinary tract infection',\n",
       "       'Varicose veins', 'Varicose veins', 'Tuberculosis', 'Pneumonia',\n",
       "       'Malaria', 'Allergy', 'Migraine', 'Typhoid', 'Common Cold',\n",
       "       'Peptic ulcer diseae', 'Dengue', 'Hypoglycemia', 'Jaundice',\n",
       "       'Varicose veins', 'Urinary tract infection', 'Diabetes ',\n",
       "       'Urinary tract infection', 'Arthritis', 'Chicken pox',\n",
       "       'Peptic ulcer diseae', 'Hypertension ', 'Alcoholic hepatitis'],\n",
       "      dtype=object)"
      ]
     },
     "execution_count": 15,
     "metadata": {},
     "output_type": "execute_result"
    }
   ],
   "source": [
    "y_pred=Decisionclassifier.predict(X_test)\n",
    "y_pred"
   ]
  },
  {
   "cell_type": "code",
   "execution_count": 16,
   "metadata": {},
   "outputs": [
    {
     "name": "stdout",
     "output_type": "stream",
     "text": [
      "Accuracy: 0.7377049180327869\n"
     ]
    }
   ],
   "source": [
    "from sklearn import metrics\n",
    "print(\"Accuracy:\",metrics.accuracy_score(y_test, y_pred))"
   ]
  },
  {
   "cell_type": "code",
   "execution_count": null,
   "metadata": {},
   "outputs": [],
   "source": []
  },
  {
   "cell_type": "code",
   "execution_count": null,
   "metadata": {},
   "outputs": [],
   "source": [
    "symptomss='itching,skin_rash,nodal_skin_eruptions,continuous_sneezing,shivering,chills,joint_pain,stomach_pain,acidity,ulcers_on_tongue,muscle_wasting,vomiting,burning_micturition,spotting_ urination,fatigue,weight_gain,anxiety,cold_hands_and_feets,mood_swings,weight_loss,restlessness,lethargy,patches_in_throat,irregular_sugar_level,cough,high_fever,sunken_eyes,breathlessness,sweating,dehydration,indigestion,headache,yellowish_skin,dark_urine,nausea,loss_of_appetite,pain_behind_the_eyes,back_pain,constipation,abdominal_pain,diarrhoea,mild_fever,yellow_urine,yellowing_of_eyes,acute_liver_failure,fluid_overload,swelling_of_stomach,swelled_lymph_nodes,malaise,blurred_and_distorted_vision,phlegm,throat_irritation,redness_of_eyes,sinus_pressure,runny_nose,congestion,chest_pain,weakness_in_limbs,fast_heart_rate,pain_during_bowel_movements,pain_in_anal_region,bloody_stool,irritation_in_anus,neck_pain,dizziness,cramps,bruising,obesity,swollen_legs,swollen_blood_vessels,puffy_face_and_eyes,enlarged_thyroid,brittle_nails,swollen_extremeties,excessive_hunger,extra_marital_contacts,drying_and_tingling_lips,slurred_speech,knee_pain,hip_joint_pain,muscle_weakness,stiff_neck,swelling_joints,movement_stiffness,spinning_movements,loss_of_balance,unsteadiness,weakness_of_one_body_side,loss_of_smell,bladder_discomfort,foul_smell_of urine,continuous_feel_of_urine,passage_of_gases,internal_itching,toxic_look_(typhos),depression,irritability,muscle_pain,altered_sensorium,red_spots_over_body,belly_pain,abnormal_menstruation,dischromic _patches,watering_from_eyes,increased_appetite,polyuria,family_history,mucoid_sputum,rusty_sputum,lack_of_concentration,visual_disturbances,receiving_blood_transfusion,receiving_unsterile_injections,coma,stomach_bleeding,distention_of_abdomen,history_of_alcohol_consumption,fluid_overload,blood_in_sputum,prominent_veins_on_calf,palpitations,painful_walking,pus_filled_pimples,blackheads,scurring,skin_peeling,silver_like_dusting,small_dents_in_nails,inflammatory_nails,blister,red_sore_around_nose,yellow_crust_ooze'\n",
    "symptomss=symptomss.split(',')"
   ]
  },
  {
   "cell_type": "code",
   "execution_count": null,
   "metadata": {},
   "outputs": [],
   "source": [
    "arr=np.array([[0]*132])\n",
    "symptoms=['itching','skin_rash','nodal_skin_eruptions','continuous_sneezing','shivering','chills']\n",
    "\n",
    "for i in symptoms:\n",
    "        arr[0][symptomss.index(i)]=1"
   ]
  },
  {
   "cell_type": "code",
   "execution_count": null,
   "metadata": {},
   "outputs": [],
   "source": [
    "predicted_disease=Decisionclassifier.predict(arr)\n",
    "print(predicted_disease)"
   ]
  },
  {
   "cell_type": "code",
   "execution_count": 8,
   "metadata": {},
   "outputs": [
    {
     "data": {
      "text/plain": [
       "RandomForestClassifier(bootstrap=True, class_weight=None, criterion='entropy',\n",
       "                       max_depth=None, max_features='auto', max_leaf_nodes=None,\n",
       "                       min_impurity_decrease=0.0, min_impurity_split=None,\n",
       "                       min_samples_leaf=1, min_samples_split=2,\n",
       "                       min_weight_fraction_leaf=0.0, n_estimators=10,\n",
       "                       n_jobs=None, oob_score=False, random_state=0, verbose=0,\n",
       "                       warm_start=False)"
      ]
     },
     "execution_count": 8,
     "metadata": {},
     "output_type": "execute_result"
    }
   ],
   "source": [
    "# Fitting Random forest Classification to the Training set\n",
    "from sklearn.ensemble import RandomForestClassifier\n",
    "RandomForestclassifier = RandomForestClassifier(n_estimators = 10, criterion = 'entropy', random_state = 0)\n",
    "RandomForestclassifier.fit(X,np.ravel(y))"
   ]
  },
  {
   "cell_type": "code",
   "execution_count": 9,
   "metadata": {},
   "outputs": [
    {
     "data": {
      "text/plain": [
       "array(['Hypertension ', 'Hepatitis C', 'Hyperthyroidism',\n",
       "       'Osteoarthristis', 'Hepatitis D', 'Typhoid',\n",
       "       'Cervical spondylosis', 'hepatitis A', 'Chicken pox',\n",
       "       'Hepatitis E', 'Varicose veins', 'Hyperthyroidism', 'Hepatitis B',\n",
       "       'Hypothyroidism', 'Paralysis (brain hemorrhage)', 'GERD',\n",
       "       'Varicose veins', 'Bronchial Asthma', 'GERD',\n",
       "       'Chronic cholestasis', 'Hyperthyroidism', 'Hypoglycemia',\n",
       "       'Migraine', 'Heart attack', 'Hepatitis E', 'Jaundice',\n",
       "       'Gastroenteritis', 'Arthritis', 'Varicose veins', 'Arthritis',\n",
       "       'Hypothyroidism', 'Bronchial Asthma', 'Hepatitis C',\n",
       "       'Gastroenteritis', 'Chronic cholestasis', 'Common Cold', 'Allergy',\n",
       "       'Osteoarthristis', 'Psoriasis', 'Varicose veins', 'Varicose veins',\n",
       "       'Tuberculosis', 'Pneumonia', 'Malaria', 'Allergy',\n",
       "       'Paralysis (brain hemorrhage)', 'Typhoid', 'Common Cold',\n",
       "       'Peptic ulcer diseae', 'Dengue', 'Hypoglycemia',\n",
       "       'Chronic cholestasis', 'Varicose veins', 'Allergy', 'Diabetes ',\n",
       "       'Dimorphic hemmorhoids(piles)', 'Arthritis', 'Chicken pox',\n",
       "       'Alcoholic hepatitis', 'Hypertension ', 'Alcoholic hepatitis'],\n",
       "      dtype=object)"
      ]
     },
     "execution_count": 9,
     "metadata": {},
     "output_type": "execute_result"
    }
   ],
   "source": [
    "RadomForestClassifier_y_pred=RandomForestclassifier.predict(X_test)\n",
    "RadomForestClassifier_y_pred"
   ]
  },
  {
   "cell_type": "code",
   "execution_count": 10,
   "metadata": {},
   "outputs": [
    {
     "name": "stdout",
     "output_type": "stream",
     "text": [
      "Accuracy: of Random Forest Classifietr 0.9836065573770492\n"
     ]
    }
   ],
   "source": [
    "from sklearn import metrics\n",
    "print(\"Accuracy: of Random Forest Classifietr\",metrics.accuracy_score(y_test, RadomForestClassifier_y_pred))"
   ]
  },
  {
   "cell_type": "code",
   "execution_count": 18,
   "metadata": {},
   "outputs": [
    {
     "name": "stdout",
     "output_type": "stream",
     "text": [
      "[[2 0 0 ... 0 0 0]\n",
      " [0 3 0 ... 0 0 0]\n",
      " [0 0 3 ... 0 0 0]\n",
      " ...\n",
      " [0 0 0 ... 2 0 0]\n",
      " [0 0 0 ... 0 6 0]\n",
      " [0 0 0 ... 0 0 1]]\n",
      "                              precision    recall  f1-score   support\n",
      "\n",
      "         Alcoholic hepatitis       1.00      1.00      1.00         2\n",
      "                     Allergy       1.00      1.00      1.00         3\n",
      "                   Arthritis       1.00      1.00      1.00         3\n",
      "            Bronchial Asthma       1.00      1.00      1.00         2\n",
      "        Cervical spondylosis       1.00      1.00      1.00         1\n",
      "                 Chicken pox       1.00      1.00      1.00         2\n",
      "         Chronic cholestasis       1.00      1.00      1.00         3\n",
      "                 Common Cold       1.00      1.00      1.00         2\n",
      "                      Dengue       1.00      1.00      1.00         1\n",
      "                   Diabetes        1.00      1.00      1.00         1\n",
      "Dimorphic hemmorhoids(piles)       1.00      1.00      1.00         1\n",
      "                        GERD       1.00      1.00      1.00         2\n",
      "             Gastroenteritis       1.00      1.00      1.00         2\n",
      "                Heart attack       1.00      1.00      1.00         1\n",
      "                 Hepatitis B       1.00      1.00      1.00         1\n",
      "                 Hepatitis C       1.00      1.00      1.00         2\n",
      "                 Hepatitis D       0.00      0.00      0.00         0\n",
      "                 Hepatitis E       1.00      1.00      1.00         2\n",
      "               Hypertension        1.00      1.00      1.00         2\n",
      "             Hyperthyroidism       1.00      1.00      1.00         3\n",
      "                Hypoglycemia       1.00      1.00      1.00         2\n",
      "              Hypothyroidism       1.00      1.00      1.00         2\n",
      "                    Jaundice       1.00      1.00      1.00         1\n",
      "                     Malaria       1.00      1.00      1.00         1\n",
      "                    Migraine       1.00      1.00      1.00         1\n",
      "             Osteoarthristis       1.00      1.00      1.00         2\n",
      "Paralysis (brain hemorrhage)       1.00      1.00      1.00         2\n",
      "         Peptic ulcer diseae       1.00      1.00      1.00         1\n",
      "                   Pneumonia       1.00      1.00      1.00         1\n",
      "                   Psoriasis       1.00      1.00      1.00         1\n",
      "                Tuberculosis       1.00      1.00      1.00         1\n",
      "                     Typhoid       1.00      1.00      1.00         2\n",
      "              Varicose veins       1.00      1.00      1.00         6\n",
      "                 hepatitis A       1.00      0.50      0.67         2\n",
      "\n",
      "                    accuracy                           0.98        61\n",
      "                   macro avg       0.97      0.96      0.96        61\n",
      "                weighted avg       1.00      0.98      0.99        61\n",
      "\n",
      "0.9836065573770492\n"
     ]
    },
    {
     "name": "stderr",
     "output_type": "stream",
     "text": [
      "/home/raghunath/anaconda3/lib/python3.7/site-packages/sklearn/metrics/classification.py:1439: UndefinedMetricWarning: Recall and F-score are ill-defined and being set to 0.0 in labels with no true samples.\n",
      "  'recall', 'true', average, warn_for)\n"
     ]
    }
   ],
   "source": [
    "from sklearn.metrics import classification_report, confusion_matrix, accuracy_score\n",
    "\n",
    "print(confusion_matrix(y_test,RadomForestClassifier_y_pred))\n",
    "print(classification_report(y_test,RadomForestClassifier_y_pred))\n",
    "print(accuracy_score(y_test, RadomForestClassifier_y_pred))"
   ]
  },
  {
   "cell_type": "code",
   "execution_count": 11,
   "metadata": {},
   "outputs": [
    {
     "data": {
      "text/plain": [
       "GaussianNB(priors=None, var_smoothing=1e-09)"
      ]
     },
     "execution_count": 11,
     "metadata": {},
     "output_type": "execute_result"
    }
   ],
   "source": [
    "from sklearn.naive_bayes import GaussianNB\n",
    "NaiveBayesclassifier = GaussianNB()\n",
    "NaiveBayesclassifier.fit(X, y)"
   ]
  },
  {
   "cell_type": "code",
   "execution_count": 12,
   "metadata": {},
   "outputs": [
    {
     "data": {
      "text/plain": [
       "array(['Hypertension ', 'Hepatitis C', 'Hyperthyroidism',\n",
       "       'Osteoarthristis', 'Hepatitis D', 'Typhoid',\n",
       "       'Cervical spondylosis', 'hepatitis A', 'Chicken pox',\n",
       "       'Hepatitis E', 'Varicose veins', 'Hyperthyroidism', 'Hepatitis B',\n",
       "       'Hypothyroidism', 'Paralysis (brain hemorrhage)', 'GERD',\n",
       "       'Varicose veins', 'Bronchial Asthma', 'GERD',\n",
       "       'Chronic cholestasis', 'Hyperthyroidism', 'Hypoglycemia',\n",
       "       'Migraine', 'Heart attack', 'Hepatitis E', 'Jaundice',\n",
       "       'Gastroenteritis', 'Arthritis', 'Varicose veins', 'Arthritis',\n",
       "       'Hypothyroidism', 'Bronchial Asthma', 'Hepatitis C',\n",
       "       'Gastroenteritis', 'Chronic cholestasis', 'Common Cold', 'Allergy',\n",
       "       'Osteoarthristis', 'Psoriasis', 'Varicose veins', 'Varicose veins',\n",
       "       'Tuberculosis', 'Pneumonia', 'Malaria', 'Allergy',\n",
       "       'Paralysis (brain hemorrhage)', 'Typhoid', 'Common Cold',\n",
       "       'Peptic ulcer diseae', 'Dengue', 'Hypoglycemia',\n",
       "       'Chronic cholestasis', 'Varicose veins', 'Allergy', 'Diabetes ',\n",
       "       'Dimorphic hemmorhoids(piles)', 'Arthritis', 'Chicken pox',\n",
       "       'Alcoholic hepatitis', 'Hypertension ', 'Alcoholic hepatitis'],\n",
       "      dtype=object)"
      ]
     },
     "execution_count": 12,
     "metadata": {},
     "output_type": "execute_result"
    }
   ],
   "source": [
    "NaiveBayesclassifier_y_pred=RandomForestclassifier.predict(X_test)\n",
    "NaiveBayesclassifier_y_pred"
   ]
  },
  {
   "cell_type": "code",
   "execution_count": 13,
   "metadata": {},
   "outputs": [
    {
     "name": "stdout",
     "output_type": "stream",
     "text": [
      "Accuracy for Naive Bayes Classifier: 0.9836065573770492\n"
     ]
    }
   ],
   "source": [
    "from sklearn import metrics\n",
    "print(\"Accuracy for Naive Bayes Classifier:\",metrics.accuracy_score(y_test, NaiveBayesclassifier_y_pred))"
   ]
  },
  {
   "cell_type": "code",
   "execution_count": 19,
   "metadata": {},
   "outputs": [
    {
     "data": {
      "text/plain": [
       "DecisionTreeClassifier(class_weight=None, criterion='gini', max_depth=None,\n",
       "                       max_features=None, max_leaf_nodes=None,\n",
       "                       min_impurity_decrease=0.0, min_impurity_split=None,\n",
       "                       min_samples_leaf=1, min_samples_split=2,\n",
       "                       min_weight_fraction_leaf=0.0, presort=False,\n",
       "                       random_state=20, splitter='best')"
      ]
     },
     "execution_count": 19,
     "metadata": {},
     "output_type": "execute_result"
    }
   ],
   "source": [
    "# Importing the dataset\n",
    "dataset = pd.read_csv('Training.csv')\n",
    "X = dataset.iloc[:, :-1].values\n",
    "y = dataset.iloc[:, -1].values\n",
    "\n",
    "# Fitting Decision Tree Classification to the entire data set\n",
    "from sklearn.tree import DecisionTreeClassifier\n",
    "Decisionclassifier = DecisionTreeClassifier(random_state=20)\n",
    "Decisionclassifier.fit(X, y)\n"
   ]
  },
  {
   "cell_type": "code",
   "execution_count": 20,
   "metadata": {},
   "outputs": [
    {
     "data": {
      "text/plain": [
       "array(['Hypertension ', 'Hepatitis C', 'Hyperthyroidism',\n",
       "       'Osteoarthristis', 'hepatitis A', 'Typhoid',\n",
       "       'Cervical spondylosis', 'hepatitis A', 'Chicken pox',\n",
       "       'Hepatitis E', 'Varicose veins', 'Hyperthyroidism', 'Hepatitis B',\n",
       "       'Hypothyroidism', 'Paralysis (brain hemorrhage)', 'GERD',\n",
       "       'Varicose veins', 'Bronchial Asthma', 'GERD',\n",
       "       'Chronic cholestasis', 'Hyperthyroidism', 'Hypoglycemia',\n",
       "       'Migraine', 'Heart attack', 'Hepatitis E', 'Jaundice',\n",
       "       'Gastroenteritis', 'Arthritis', 'Varicose veins', 'Arthritis',\n",
       "       'Hypothyroidism', 'Bronchial Asthma', 'Hepatitis C',\n",
       "       'Gastroenteritis', 'Chronic cholestasis', 'Common Cold', 'Allergy',\n",
       "       'Osteoarthristis', 'Psoriasis', 'Varicose veins', 'Varicose veins',\n",
       "       'Tuberculosis', 'Pneumonia', 'Malaria', 'Allergy',\n",
       "       'Paralysis (brain hemorrhage)', 'Typhoid', 'Common Cold',\n",
       "       'Peptic ulcer diseae', 'Dengue', 'Hypoglycemia',\n",
       "       'Chronic cholestasis', 'Varicose veins', 'Allergy', 'Diabetes ',\n",
       "       'Dimorphic hemmorhoids(piles)', 'Arthritis', 'Chicken pox',\n",
       "       'Alcoholic hepatitis', 'Hypertension ', 'Alcoholic hepatitis'],\n",
       "      dtype=object)"
      ]
     },
     "execution_count": 20,
     "metadata": {},
     "output_type": "execute_result"
    }
   ],
   "source": [
    "y_pred=Decisionclassifier.predict(X_test)\n",
    "y_pred"
   ]
  },
  {
   "cell_type": "code",
   "execution_count": 21,
   "metadata": {},
   "outputs": [
    {
     "name": "stdout",
     "output_type": "stream",
     "text": [
      "Accuracy: 1.0\n"
     ]
    }
   ],
   "source": [
    "from sklearn import metrics\n",
    "print(\"Accuracy:\",metrics.accuracy_score(y_test, y_pred))"
   ]
  }
 ],
 "metadata": {
  "kernelspec": {
   "display_name": "Python 3",
   "language": "python",
   "name": "python3"
  },
  "language_info": {
   "codemirror_mode": {
    "name": "ipython",
    "version": 3
   },
   "file_extension": ".py",
   "mimetype": "text/x-python",
   "name": "python",
   "nbconvert_exporter": "python",
   "pygments_lexer": "ipython3",
   "version": "3.7.4"
  }
 },
 "nbformat": 4,
 "nbformat_minor": 2
}
